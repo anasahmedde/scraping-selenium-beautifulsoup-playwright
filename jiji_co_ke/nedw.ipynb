{
 "cells": [
  {
   "cell_type": "code",
   "execution_count": 27,
   "metadata": {},
   "outputs": [],
   "source": [
    "from zenrows import ZenRowsClient\n",
    "from bs4 import BeautifulSoup\n",
    "\n",
    "client = ZenRowsClient(\"e60f3e2234cfaec6a5530d270606277b656cd797\")\n",
    "url = \"https://jiji.co.ke/kileleshwa/houses-apartments-for-rent/1bdrm-apartment-in-kileleshwa-for-rent-pgXaP0IDanUfU7Rgn9H5xbNa.html\"\n",
    "# url = \"https://jiji.co.ke/shanzu/temporary-and-vacation-rentals/2-bedroom-beachfront-airbnb-apartment-in-mombasa-1zXUskgyApokEmxT4dQvX1q8.html\"\n",
    "#params = {\"js_render\":\"true\",\"premium_proxy\":\"true\"}\n",
    "params = {\"js_render\":\"true\"}\n",
    "response = client.get(url, params=params, timeout=120)\n",
    "\n",
    "soup = BeautifulSoup(response.text, 'lxml')\n"
   ]
  },
  {
   "cell_type": "code",
   "execution_count": 28,
   "metadata": {},
   "outputs": [
    {
     "data": {
      "text/plain": [
       "['Property Address', 'Property Size', 'Condition', 'Furnishing', 'Toilets']"
      ]
     },
     "execution_count": 28,
     "metadata": {},
     "output_type": "execute_result"
    }
   ],
   "source": [
    "[i.text for i in soup.select(\"div.b-advert-attribute__key\")]"
   ]
  },
  {
   "cell_type": "code",
   "execution_count": 29,
   "metadata": {},
   "outputs": [
    {
     "data": {
      "text/plain": [
       "['Kileleshwa', '82sqm', 'Fairly Used', 'Unfurnished', '1']"
      ]
     },
     "execution_count": 29,
     "metadata": {},
     "output_type": "execute_result"
    }
   ],
   "source": [
    "[i.text for i in soup.select(\"div.b-advert-attribute__value\")]"
   ]
  },
  {
   "cell_type": "code",
   "execution_count": 30,
   "metadata": {},
   "outputs": [
    {
     "name": "stdout",
     "output_type": "stream",
     "text": [
      "EdenWorld Properties KES 60000 ['https://pictures-kenya.jijistatic.com/72810434_MTYwMC0xNjAwLTJkNDg1MDNiYjc.webp', 'https://pictures-kenya.jijistatic.com/72810434_MzAwLTMwMC0yZDQ4NTAzYmI3.webp', 'https://pictures-kenya.jijistatic.com/72810381_MzAwLTMwMC05NzE5OGU5YTE0.webp', 'https://pictures-kenya.jijistatic.com/72810390_MzAwLTMwMC01NzI4N2NiNGRj.webp', 'https://pictures-kenya.jijistatic.com/72810402_MzAwLTMwMC1mNzU2OGNiNDVm.webp', 'https://pictures-kenya.jijistatic.com/72810420_MzAwLTMwMC00N2Y2ZjFkZjIw.webp'] Executive 1 Bedroom Apartments To Let \n",
      "Kileleshwa\n",
      " \n",
      "Unit immediately available on 6th Floor \n",
      "Amenities\n",
      "• Fitted Gym \n",
      "• Swimming pool\n",
      "• High Speed Lifts \n",
      "• Spacious Balconies \n",
      "• Video Intercom \n",
      "• 24/H Security \n",
      "• Backup Generator \n",
      "• Borehole\n",
      "• Electric Fence\n"
     ]
    }
   ],
   "source": [
    "description = soup.select_one(\"span.qa-description-text\").text\n",
    "currency = soup.select_one('meta[itemprop=\"priceCurrency\"]')['content'] if soup.select_one('meta[itemprop=\"priceCurrency\"]') else None\n",
    "price = soup.select_one('div[itemprop=\"price\"]')['content'] if soup.select_one('div[itemprop=\"price\"]') else None\n",
    "images = [i.select_one('img')['src'] for i in soup.select(\"source[type='image/webp']\")]\n",
    "agent = soup.select_one(\"div.b-seller-block__name\").text\n",
    "\n",
    "print(agent, currency, price, images, description)"
   ]
  },
  {
   "cell_type": "code",
   "execution_count": 31,
   "metadata": {},
   "outputs": [
    {
     "name": "stdout",
     "output_type": "stream",
     "text": [
      "None None 82 sqm None None 1 None Kileleshwa []\n"
     ]
    }
   ],
   "source": [
    "import re\n",
    "\n",
    "keys = [i.text for i in soup.select(\"div.b-advert-attribute__key\")]\n",
    "values = [i.text for i in soup.select(\"div.b-advert-attribute__value\")]\n",
    "\n",
    "key_value_map = dict(zip(keys, values))\n",
    "\n",
    "propertyType = key_value_map.get(\"Property Type\", None) or key_value_map.get(\"Type\", None)\n",
    "constructionStatus = key_value_map.get(\"Status of Construction\", None)\n",
    "\n",
    "property_size_value = key_value_map.get(\"Property Size\") or key_value_map.get(\"Square Metres\") or key_value_map.get(\"Land Area\")\n",
    "if property_size_value:\n",
    "    size_match = re.match(r\"([\\d.]+)([a-zA-Z]+)\", property_size_value)\n",
    "    size = size_match.group(1) if size_match else None\n",
    "    sizeUnit = size_match.group(2).strip() if size_match else None\n",
    "else:\n",
    "    size = None\n",
    "    sizeUnit = None\n",
    "\n",
    "beds = key_value_map.get(\"Number of Bedrooms\", None)\n",
    "baths = key_value_map.get(\"Number of Bathrooms\", None)\n",
    "toilets = key_value_map.get(\"Toilets\", None)\n",
    "parking = key_value_map.get(\"Parking Spaces\", None)\n",
    "address = key_value_map.get(\"Address\", None) or key_value_map.get(\"Property Address\", None)\n",
    "amenities = (\n",
    "    key_value_map.get(\"Facilities\", \"\").split(\", \") \n",
    "    if key_value_map.get(\"Facilities\") \n",
    "    else [\n",
    "        amenity.text.strip() \n",
    "        for amenity in soup.select(\"div.b-advert-attributes__tag\") \n",
    "        if amenity and amenity.text\n",
    "    ]\n",
    ")\n",
    "description = soup.select_one(\"span.qa-description-text\").text if soup.select_one(\"span.qa-description-text\") else None\n",
    "currency = soup.select_one('meta[itemprop=\"priceCurrency\"]')['content'] if soup.select_one('meta[itemprop=\"priceCurrency\"]') else None\n",
    "price = soup.select_one('div[itemprop=\"price\"]')['content'] if soup.select_one('div[itemprop=\"price\"]') else None\n",
    "images = [i.select_one('img')['src'] for i in soup.select(\"source[type='image/webp']\")] if soup.select(\"source[type='image/webp']\") else []\n",
    "agent = soup.select_one(\"div.b-seller-block__name\").text if soup.select_one(\"div.b-seller-block__name\") else None\n",
    "\n",
    "print(propertyType, constructionStatus, size, sizeUnit, beds, baths, toilets, parking, address, amenities)\n"
   ]
  },
  {
   "cell_type": "code",
   "execution_count": 32,
   "metadata": {},
   "outputs": [],
   "source": [
    "import re\n",
    "\n",
    "if (len(soup.select(\"div.b-advert-icon-attribute__image\")) == 3):\n",
    "\n",
    "    propertyType = soup.select(\"div.b-advert-icon-attribute__image\")[0].find_next_sibling().text\n",
    "\n",
    "    bed_number_match = re.match(r'\\d+', soup.select(\"div.b-advert-icon-attribute__image\")[1].find_next_sibling().text)\n",
    "    beds = bed_number_match.group() if bed_number_match else None\n",
    "\n",
    "    bath_number_match = re.match(r'\\d+', soup.select(\"div.b-advert-icon-attribute__image\")[2].find_next_sibling().text)\n",
    "    baths = bath_number_match.group() if bath_number_match else None\n",
    "\n",
    "if (len(soup.select(\"div.b-advert-icon-attribute__image\")) == 2):\n",
    "    bed_number_match = re.match(r'\\d+', soup.select(\"div.b-advert-icon-attribute__image\")[0].find_next_sibling().text)\n",
    "    beds = bed_number_match.group() if bed_number_match else None\n",
    "\n",
    "    bath_number_match = re.match(r'\\d+', soup.select(\"div.b-advert-icon-attribute__image\")[1].find_next_sibling().text)\n",
    "    baths = bath_number_match.group() if bath_number_match else None"
   ]
  },
  {
   "cell_type": "code",
   "execution_count": 33,
   "metadata": {},
   "outputs": [
    {
     "name": "stdout",
     "output_type": "stream",
     "text": [
      "60000.0 KES per month\n"
     ]
    }
   ],
   "source": [
    "price = float(soup.select_one('div[itemprop=\"price\"]')['content']) if soup.select_one('div[itemprop=\"price\"]') else None\n",
    "currency = soup.select_one('meta[itemprop=\"priceCurrency\"]')['content'] if soup.select_one('meta[itemprop=\"priceCurrency\"]') else None\n",
    "pricingCriteria = soup.select_one('span.b-alt-advert-price__period').text if soup.select_one('span.b-alt-advert-price__period') else None\n",
    "\n",
    "print(price, currency, pricingCriteria)"
   ]
  },
  {
   "cell_type": "code",
   "execution_count": null,
   "metadata": {},
   "outputs": [],
   "source": [
    "import os, io, logging, boto3\n",
    "import time\n",
    "from concurrent.futures import ThreadPoolExecutor\n",
    "from dotenv import load_dotenv\n",
    "from pymongo import MongoClient, UpdateOne\n",
    "from zenrows import ZenRowsClient\n",
    "\n",
    "# Load environment variables\n",
    "load_dotenv(override=True)\n",
    "CONNECTION_STRING_MONGODB = os.getenv(\"CONNECTION_STRING\")\n",
    "aws_region_name = os.getenv(\"aws_region_name\")\n",
    "bucket_name = os.getenv(\"bucket_name\")\n",
    "zenRowsApiKey = os.getenv(\"ZENROWS_API_KEY\")\n",
    "threads = int(os.getenv(\"threads\"))\n",
    "databaseName = 'jiji_com_gh'\n",
    "\n",
    "# Configure logging\n",
    "\n",
    "formatter = logging.Formatter('%(asctime)s - %(levelname)s - %(message)s', datefmt='%Y-%m-%d %H:%M:%S')\n",
    "logging.basicConfig(level=logging.INFO, format='%(asctime)s - %(levelname)s - %(message)s',datefmt='%Y-%m-%d %H:%M:%S')\n",
    "\n",
    "log = logging.getLogger(\"jiji-co-tz-url-extractor\")\n",
    "log_stringio = io.StringIO()\n",
    "handler = logging.StreamHandler(log_stringio)\n",
    "handler.setFormatter(formatter)\n",
    "log.addHandler(handler)\n",
    "\n",
    "\n",
    "# ZenRows client\n",
    "client = ZenRowsClient(zenRowsApiKey)\n",
    "params = {\"js_render\":\"true\"}\n",
    "\n",
    "def sendData(data, databaseName, collectionName):\n",
    "    try:\n",
    "        client = MongoClient(CONNECTION_STRING_MONGODB)\n",
    "        db = client[databaseName]\n",
    "        collection = db[collectionName]\n",
    "\n",
    "        operations = [\n",
    "            UpdateOne({'propertyId': record['propertyId']}, {'$set': record}, upsert=True)\n",
    "            for record in data\n",
    "        ]\n",
    "        if operations:\n",
    "            collection.bulk_write(operations)\n",
    "        logging.info(f\"Sent {len(data)} records to MongoDB.\")\n",
    "    except Exception as e:\n",
    "        logging.error(f\"Error sending data to MongoDB: {e}\")\n",
    "\n",
    "def process_adverts(data):\n",
    "    return [\n",
    "        {\n",
    "            'url': f\"https://jiji.com.gh{i.get('url')}\",\n",
    "            'propertyId': i.get('id'),\n",
    "            'price': i.get('price_obj').get('value'),\n",
    "            'user_phone': i.get('user_phone'),\n",
    "            'title': i.get('title'),\n",
    "            'city': i.get('region_parent_name'),\n",
    "            'neighborhood': i.get('region_name'),\n",
    "        }\n",
    "        for i in data\n",
    "    ]\n",
    "\n",
    "def fetch_with_retries(url, params, retries=3, timeout=120):\n",
    "    for attempt in range(retries):\n",
    "        try:\n",
    "            response = client.get(url, params=params, timeout=timeout)\n",
    "            return response.json()\n",
    "        except Exception as e:\n",
    "            log.warning(f\"Error fetching URL: {url}, attempt {attempt + 1}/{retries}: {e}\")\n",
    "            if attempt < retries - 1:\n",
    "                time.sleep(2 ** attempt)\n",
    "    log.error(f\"Failed to fetch URL: {url} after {retries} attempts.\")\n",
    "    return None\n",
    "\n",
    "def fetch_data(slug):\n",
    "    all_data = []\n",
    "    url = f\"https://jiji.com.gh/api_web/v1/listing?slug={slug}\"\n",
    "    print('Processing url:', url)\n",
    "    # Initial fetch\n",
    "    response = fetch_with_retries(url, params=params)\n",
    "    if response:\n",
    "        data = response.get('adverts_list', {}).get('adverts', [])\n",
    "        all_data = process_adverts(data)\n",
    "        # Handle pagination with retries\n",
    "        while response.get('next_url', None):\n",
    "            next_url = response.get('next_url')\n",
    "            print('Processing url:', next_url)\n",
    "            response = fetch_with_retries(next_url, params=params)\n",
    "            if response:\n",
    "                data = response.get('adverts_list', {}).get('adverts', [])\n",
    "                all_data += process_adverts(data)\n",
    "            else:\n",
    "                log.error(f\"Failed to fetch paginated data for slug {slug}. Skipping remaining pages.\")\n",
    "                break  # Exit pagination loop if retries fail\n",
    "\n",
    "    return all_data\n",
    "\n",
    "allSlugs = ['new-builds', 'event-centers-and-venues', 'land-and-plots-for-rent', 'commercial-properties', 'commercial-property-for-rent', 'temporary-and-vacation-rentals', 'houses-apartments-for-sale', 'houses-apartments-for-rent', 'land-and-plots-for-sale']\n",
    "\n",
    "log.info('Gathering property links !')\n",
    "with ThreadPoolExecutor(max_workers=threads) as executor:\n",
    "    results = executor.map(fetch_data, allSlugs)\n",
    "    for result in results:\n",
    "        sendData(result, databaseName, 'propertyURLs')\n",
    "\n",
    "    log.info(\"URL extraction completed successfully.\")\n",
    "    s3 = boto3.client(\"s3\", region_name=aws_region_name)\n",
    "    s3.put_object(Body=log_stringio.getvalue(), Bucket=bucket_name, Key=\"logs/jiji_com_gh/url-extractor-logs.txt\")\n",
    "    log.info(\"Logs transferred to s3 completed\")\n"
   ]
  },
  {
   "cell_type": "code",
   "execution_count": null,
   "metadata": {},
   "outputs": [],
   "source": [
    "import requests, json\n",
    "\n",
    "apikey = \"e60f3e2234cfaec6a5530d270606277b656cd797\"\n",
    "url = \"https://www.buyrentkenya.com/listings/1-bedroom-apartment-for-sale-westlands-area-3766711\"\n",
    "response = requests.get(\"https://api.zenrows.com/v1/\", timeout=120, params={\n",
    "\t\"apikey\": apikey,\n",
    "\t\"url\": url,\n",
    "})\n",
    "soup = BeautifulSoup(response.text, 'lxml')"
   ]
  },
  {
   "cell_type": "code",
   "execution_count": 79,
   "metadata": {},
   "outputs": [],
   "source": [
    "housingType = soup.select_one(\"ul li.whitespace-nowrap:nth-of-type(2)\").text.strip() if soup.select_one(\"ul li.whitespace-nowrap:nth-of-type(2)\") else None\n",
    "city = soup.select_one('nav[data-cy=\"breadcrumbs\"] ul li:nth-of-type(4)').text.strip() if soup.select_one('nav[data-cy=\"breadcrumbs\"] ul li:nth-of-type(4)') else None\n",
    "suburb = soup.select_one('nav[data-cy=\"breadcrumbs\"] ul li:nth-of-type(5)').text.strip() if soup.select_one('nav[data-cy=\"breadcrumbs\"] ul li:nth-of-type(5)') else None\n",
    "title = soup.select_one(\"h1[data-cy='listing-heading']\").text.strip() if soup.select_one(\"h1[data-cy='listing-heading']\") else None\n",
    "location = soup.select_one('p[data-cy=\"listing-address\"]').text.strip() if soup.select_one('p[data-cy=\"listing-address\"]') else None\n",
    "beds = int(soup.select_one('span[aria-label*=\"bedrooms\"]').text.strip().replace('\\n', '')) if soup.select_one('span[aria-label*=\"bedrooms\"]') else None\n",
    "baths = int(soup.select_one('span[aria-label*=\"bathrooms\"]').text.strip().replace('\\n', '')) if soup.select_one('span[aria-label*=\"bathrooms\"]') else None\n",
    "size = float(soup.select_one('span[aria-label*=\"area\"]').text.strip().split()[0]) if soup.select_one('span[aria-label*=\"area\"]') else None\n",
    "parking = bool(soup.select_one('ul li div div:contains(\"Parking\")')) if soup.select_one('ul li div div:contains(\"Parking\")') else False\n",
    "amenities = [item.text.replace('\\n', '').replace('|', '').strip() for item in soup.select('div[data-cy=\"listing-amenities-component\"] li')]\n",
    "imgUrls = [img['src'] for img in soup.select('#gallery_slider img')]\n",
    "\n",
    "data = json.loads(soup.select_one('div[data-bi=\"product-top\"]').get('wire:snapshot')) if soup.select_one('div[data-bi=\"product-top\"]') else json.loads(soup.select_one('div[data-bi=\"product-premium\"]').get('wire:snapshot')) if soup.select_one('div[data-bi=\"product-premium\"]') else json.loads(soup.select_one('div[data-bi=\"product-basic\"]').get('wire:snapshot'))"
   ]
  },
  {
   "cell_type": "code",
   "execution_count": null,
   "metadata": {},
   "outputs": [
    {
     "name": "stdout",
     "output_type": "stream",
     "text": [
      "None None\n"
     ]
    }
   ],
   "source": [
    "data = json.loads(soup.select_one('div[data-bi=\"product-top\"]').get('wire:snapshot')) if soup.select_one('div[data-bi=\"product-top\"]') else json.loads(soup.select_one('div[data-bi=\"product-premium\"]').get('wire:snapshot')) if soup.select_one('div[data-bi=\"product-premium\"]') else json.loads(soup.select_one('div[data-bi=\"product-basic\"]').get('wire:snapshot'))\n",
    "\n",
    "description = data['data']['listingResult'][0]['_source'][0]['description']\n",
    "try:\n",
    "    sourcePricePerSf = data['data']['listingResult'][0]['_source'][0]['data_properties'][0]['price_per_sq_metre']\n",
    "    unit = data['data']['listingResult'][0]['_source'][0]['data_properties'][0]['area_unit']\n",
    "\n",
    "    if \"square-meters\" in unit:\n",
    "        sourcePricePerSf = round(sourcePricePerSf / 10.7639, 2)\n",
    "    elif 'acres' in unit:\n",
    "        sourcePricePerSf = round(sourcePricePerSf / 43560, 2)\n",
    "    else:\n",
    "        sourcePricePerSf = round(sourcePricePerSf, 2)\n",
    "except KeyError:\n",
    "    sourcePricePerSf, unit = None, None\n",
    "\n",
    "agent = data['data']['listingResult'][0]['_source'][0]['agents'][0][0][0]['name']\n",
    "agentNumber = data['data']['listingResult'][0]['_source'][0]['agents'][0][0][0]['chat_link'].replace(\"https://wa.me/\", '').replace('?text=', '') if data['data']['listingResult'][0]['_source'][0]['agents'][0][0][0]['chat_link'] else data['data']['listingResult'][0]['_source'][0]['agents'][0][0][0]['mobile_number']"
   ]
  },
  {
   "cell_type": "code",
   "execution_count": 91,
   "metadata": {
    "vscode": {
     "languageId": "ruby"
    }
   },
   "outputs": [
    {
     "name": "stdout",
     "output_type": "stream",
     "text": [
      "Round the Clock Homes +254723898445\n"
     ]
    }
   ],
   "source": [
    "agent = data['data']['listingResult'][0]['_source'][0]['agents'][0][0][0]['name']\n",
    "agentNumber = data['data']['listingResult'][0]['_source'][0]['agents'][0][0][0]['chat_link'].replace(\"https://wa.me/\", '').replace('?text=', '') if data['data']['listingResult'][0]['_source'][0]['agents'][0][0][0]['chat_link'] else data['data']['listingResult'][0]['_source'][0]['agents'][0][0][0]['mobile_number']\n",
    "\n",
    "print(agent, agentNumber)"
   ]
  },
  {
   "cell_type": "code",
   "execution_count": null,
   "metadata": {},
   "outputs": [],
   "source": []
  }
 ],
 "metadata": {
  "kernelspec": {
   "display_name": "venv",
   "language": "python",
   "name": "python3"
  },
  "language_info": {
   "codemirror_mode": {
    "name": "ipython",
    "version": 3
   },
   "file_extension": ".py",
   "mimetype": "text/x-python",
   "name": "python",
   "nbconvert_exporter": "python",
   "pygments_lexer": "ipython3",
   "version": "3.13.1"
  }
 },
 "nbformat": 4,
 "nbformat_minor": 2
}
